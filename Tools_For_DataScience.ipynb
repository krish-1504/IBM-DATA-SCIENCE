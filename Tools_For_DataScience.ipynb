{
 "cells": [
  {
   "cell_type": "markdown",
   "id": "343cc594",
   "metadata": {},
   "source": [
    "# Data Science Tools and Ecosystem"
   ]
  },
  {
   "cell_type": "markdown",
   "id": "5c0509d1",
   "metadata": {},
   "source": [
    "### Krish Suthar"
   ]
  },
  {
   "cell_type": "markdown",
   "id": "b150635f",
   "metadata": {},
   "source": [
    "#### My Name Is Krish Suthar And I Am B.Tech I.T. Student ."
   ]
  },
  {
   "cell_type": "markdown",
   "id": "8860b900",
   "metadata": {},
   "source": [
    "### Some of the popular languages that Data Scientists use are:"
   ]
  },
  {
   "cell_type": "markdown",
   "id": "fd1c0c81",
   "metadata": {},
   "source": [
    "1. Python\n",
    "2. R\n",
    "3. JAVA"
   ]
  },
  {
   "cell_type": "markdown",
   "id": "c281f240",
   "metadata": {},
   "source": [
    "### Some of the commonly used libraries used by Data Scientists include:"
   ]
  },
  {
   "cell_type": "markdown",
   "id": "b012b2d1",
   "metadata": {},
   "source": [
    "1. Numpy\n",
    "2. Pandas\n",
    "3. Scikit learn\n",
    "4. seaborn"
   ]
  },
  {
   "cell_type": "markdown",
   "id": "f62ce1a5",
   "metadata": {},
   "source": [
    "| Data Science Tools |\n",
    "| :-: |\n",
    "| RStudio |\n",
    "| Jupyter Notebook |\n",
    "| Apache Zeppelin |"
   ]
  },
  {
   "cell_type": "markdown",
   "id": "b3e13464",
   "metadata": {},
   "source": [
    "### Below are a few examples of evaluating arithmetic expressions in Python"
   ]
  },
  {
   "cell_type": "code",
   "execution_count": 2,
   "id": "c4341d87",
   "metadata": {},
   "outputs": [
    {
     "data": {
      "text/plain": [
       "17"
      ]
     },
     "execution_count": 2,
     "metadata": {},
     "output_type": "execute_result"
    }
   ],
   "source": [
    "(3*4)+5"
   ]
  },
  {
   "cell_type": "code",
   "execution_count": 3,
   "id": "0450f2c5",
   "metadata": {},
   "outputs": [
    {
     "data": {
      "text/plain": [
       "3.0"
      ]
     },
     "execution_count": 3,
     "metadata": {},
     "output_type": "execute_result"
    }
   ],
   "source": [
    "180/60"
   ]
  },
  {
   "cell_type": "markdown",
   "id": "1057d4db",
   "metadata": {},
   "source": [
    "#### Objectives:"
   ]
  },
  {
   "cell_type": "markdown",
   "id": "79f073e0",
   "metadata": {},
   "source": [
    "* List popular languages for Data Science\n",
    "* Explain the differences between Jupyter Notebook and JupyterLab\n",
    "* Describe how to execute Python code in Visual Studio Code\n",
    "* Discuss the process of cloning an existing repository in Git\n",
    "* Demonstrate how to create a table and plot in R using ggplot2"
   ]
  },
  {
   "cell_type": "markdown",
   "id": "d75f086f",
   "metadata": {},
   "source": [
    "### Author"
   ]
  },
  {
   "cell_type": "markdown",
   "id": "92f99577",
   "metadata": {},
   "source": [
    "## Krish Suthar"
   ]
  },
  {
   "cell_type": "code",
   "execution_count": null,
   "id": "bedddd6e",
   "metadata": {},
   "outputs": [],
   "source": []
  }
 ],
 "metadata": {
  "kernelspec": {
   "display_name": "Python 3 (ipykernel)",
   "language": "python",
   "name": "python3"
  },
  "language_info": {
   "codemirror_mode": {
    "name": "ipython",
    "version": 3
   },
   "file_extension": ".py",
   "mimetype": "text/x-python",
   "name": "python",
   "nbconvert_exporter": "python",
   "pygments_lexer": "ipython3",
   "version": "3.11.2"
  }
 },
 "nbformat": 4,
 "nbformat_minor": 5
}
